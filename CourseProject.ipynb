{
 "cells": [
  {
   "cell_type": "code",
   "execution_count": 1,
   "metadata": {},
   "outputs": [],
   "source": [
    "import numpy as np\n",
    "import pandas as pd"
   ]
  },
  {
   "cell_type": "markdown",
   "metadata": {},
   "source": [
    "Данные взяты с Kaggle: https://www.kaggle.com/berkeleyearth/climate-change-earth-surface-temperature-data?select=GlobalLandTemperaturesByMajorCity.csv"
   ]
  },
  {
   "cell_type": "code",
   "execution_count": 7,
   "metadata": {},
   "outputs": [
    {
     "data": {
      "text/html": [
       "<div>\n",
       "<style scoped>\n",
       "    .dataframe tbody tr th:only-of-type {\n",
       "        vertical-align: middle;\n",
       "    }\n",
       "\n",
       "    .dataframe tbody tr th {\n",
       "        vertical-align: top;\n",
       "    }\n",
       "\n",
       "    .dataframe thead th {\n",
       "        text-align: right;\n",
       "    }\n",
       "</style>\n",
       "<table border=\"1\" class=\"dataframe\">\n",
       "  <thead>\n",
       "    <tr style=\"text-align: right;\">\n",
       "      <th></th>\n",
       "      <th>dt</th>\n",
       "      <th>AverageTemperature</th>\n",
       "      <th>AverageTemperatureUncertainty</th>\n",
       "      <th>City</th>\n",
       "      <th>Country</th>\n",
       "      <th>Latitude</th>\n",
       "      <th>Longitude</th>\n",
       "    </tr>\n",
       "  </thead>\n",
       "  <tbody>\n",
       "    <tr>\n",
       "      <th>0</th>\n",
       "      <td>1849-01-01</td>\n",
       "      <td>26.704</td>\n",
       "      <td>1.435</td>\n",
       "      <td>Abidjan</td>\n",
       "      <td>CГґte D'Ivoire</td>\n",
       "      <td>5.63N</td>\n",
       "      <td>3.23W</td>\n",
       "    </tr>\n",
       "    <tr>\n",
       "      <th>1</th>\n",
       "      <td>1849-02-01</td>\n",
       "      <td>27.434</td>\n",
       "      <td>1.362</td>\n",
       "      <td>Abidjan</td>\n",
       "      <td>CГґte D'Ivoire</td>\n",
       "      <td>5.63N</td>\n",
       "      <td>3.23W</td>\n",
       "    </tr>\n",
       "    <tr>\n",
       "      <th>2</th>\n",
       "      <td>1849-03-01</td>\n",
       "      <td>28.101</td>\n",
       "      <td>1.612</td>\n",
       "      <td>Abidjan</td>\n",
       "      <td>CГґte D'Ivoire</td>\n",
       "      <td>5.63N</td>\n",
       "      <td>3.23W</td>\n",
       "    </tr>\n",
       "    <tr>\n",
       "      <th>3</th>\n",
       "      <td>1849-04-01</td>\n",
       "      <td>26.140</td>\n",
       "      <td>1.387</td>\n",
       "      <td>Abidjan</td>\n",
       "      <td>CГґte D'Ivoire</td>\n",
       "      <td>5.63N</td>\n",
       "      <td>3.23W</td>\n",
       "    </tr>\n",
       "    <tr>\n",
       "      <th>4</th>\n",
       "      <td>1849-05-01</td>\n",
       "      <td>25.427</td>\n",
       "      <td>1.200</td>\n",
       "      <td>Abidjan</td>\n",
       "      <td>CГґte D'Ivoire</td>\n",
       "      <td>5.63N</td>\n",
       "      <td>3.23W</td>\n",
       "    </tr>\n",
       "  </tbody>\n",
       "</table>\n",
       "</div>"
      ],
      "text/plain": [
       "           dt  AverageTemperature  AverageTemperatureUncertainty     City  \\\n",
       "0  1849-01-01              26.704                          1.435  Abidjan   \n",
       "1  1849-02-01              27.434                          1.362  Abidjan   \n",
       "2  1849-03-01              28.101                          1.612  Abidjan   \n",
       "3  1849-04-01              26.140                          1.387  Abidjan   \n",
       "4  1849-05-01              25.427                          1.200  Abidjan   \n",
       "\n",
       "          Country Latitude Longitude  \n",
       "0  CГґte D'Ivoire    5.63N     3.23W  \n",
       "1  CГґte D'Ivoire    5.63N     3.23W  \n",
       "2  CГґte D'Ivoire    5.63N     3.23W  \n",
       "3  CГґte D'Ivoire    5.63N     3.23W  \n",
       "4  CГґte D'Ivoire    5.63N     3.23W  "
      ]
     },
     "execution_count": 7,
     "metadata": {},
     "output_type": "execute_result"
    }
   ],
   "source": [
    "df = pd.read_csv('GlobalLandTemperaturesByMajorCity.csv', encoding='cp1251')\n",
    "df.head()"
   ]
  },
  {
   "cell_type": "code",
   "execution_count": 49,
   "metadata": {},
   "outputs": [
    {
     "data": {
      "text/plain": [
       "array([\"CГґte D'Ivoire\", 'Ethiopia', 'India', 'Syria', 'Egypt', 'Turkey',\n",
       "       'Iraq', 'Thailand', 'Brazil', 'Germany', 'Colombia',\n",
       "       'South Africa', 'Morocco', 'China', 'United States', 'Senegal',\n",
       "       'Tanzania', 'Bangladesh', 'Pakistan', 'Zimbabwe', 'Vietnam',\n",
       "       'Nigeria', 'Indonesia', 'Saudi Arabia', 'Afghanistan', 'Ukraine',\n",
       "       'Congo (Democratic Republic Of The)', 'Peru', 'United Kingdom',\n",
       "       'Angola', 'Spain', 'Philippines', 'Iran', 'Australia', 'Mexico',\n",
       "       'Somalia', 'Canada', 'Russia', 'Japan', 'Kenya', 'France', 'Burma',\n",
       "       'Italy', 'Chile', 'Dominican Republic', 'South Korea', 'Singapore',\n",
       "       'Taiwan', 'Sudan'], dtype=object)"
      ]
     },
     "execution_count": 49,
     "metadata": {},
     "output_type": "execute_result"
    }
   ],
   "source": [
    "pd.unique(df[\"Country\"])"
   ]
  },
  {
   "cell_type": "code",
   "execution_count": 65,
   "metadata": {},
   "outputs": [
    {
     "data": {
      "text/plain": [
       "0    26.704\n",
       "1    27.434\n",
       "2    28.101\n",
       "3    26.140\n",
       "4    25.427\n",
       "5    24.844\n",
       "6    24.058\n",
       "7    23.576\n",
       "8    23.662\n",
       "9    25.263\n",
       "Name: AverageTemperature, dtype: float64"
      ]
     },
     "execution_count": 65,
     "metadata": {},
     "output_type": "execute_result"
    }
   ],
   "source": [
    "#pd.unique(df[\"Country\"])\n",
    "df[(df['Country'] == \"CГґte D'Ivoire\") & (df[\"AverageTemperature\"].isna() == False)][\"AverageTemperature\"].head(10)"
   ]
  },
  {
   "cell_type": "markdown",
   "metadata": {},
   "source": [
    "### Оценка среднего значения температуры в Санкт-Петербурге"
   ]
  },
  {
   "cell_type": "code",
   "execution_count": 40,
   "metadata": {},
   "outputs": [
    {
     "name": "stdout",
     "output_type": "stream",
     "text": [
      "3.443857430268399 < M(X) < 4.392231641115056\n"
     ]
    }
   ],
   "source": [
    "X = df[(df['City'] == \"Saint Petersburg\") & (df[\"AverageTemperature\"].isna() == False)][\"AverageTemperature\"].mean()\n",
    "s = df[(df['City'] == \"Saint Petersburg\") & (df[\"AverageTemperature\"].isna() == False)][\"AverageTemperature\"].std()\n",
    "n = len(df[(df['City'] == \"Saint Petersburg\") & (df[\"AverageTemperature\"].isna() == False)])\n",
    "#F(1.95/2)\n",
    "c = 1/0.3340\n",
    "T_1 = X-c*s/((n)**(1/2))\n",
    "T_2 = X+c*s/((n)**(1/2))\n",
    "print(T_1, \"< M(X) <\", T_2)"
   ]
  },
  {
   "cell_type": "markdown",
   "metadata": {},
   "source": [
    "### Проверка гипотезы, что средняя температура в Санкт-Петербурге  +2"
   ]
  },
  {
   "cell_type": "code",
   "execution_count": 98,
   "metadata": {},
   "outputs": [
    {
     "name": "stdout",
     "output_type": "stream",
     "text": [
      "Средняя температура:  3.2673200000000002\n",
      "T_наблюдаемое:  1.38177057168253\n",
      "Т_критическое, по таблице Стьюдента: 2.262\n"
     ]
    }
   ],
   "source": [
    "X = df[(df['City'] == \"Saint Petersburg\") & (df[\"AverageTemperature\"].isna() == False)][\"AverageTemperature\"].head(100)\n",
    "M = X.mean()\n",
    "print(\"Средняя температура: \", M)\n",
    "s = X.std()\n",
    "T = abs(M-2)/(s/10)\n",
    "print(\"T_наблюдаемое: \", T)\n",
    "print(\"Т_критическое, по таблице Стьюдента:\", 2.262)"
   ]
  },
  {
   "cell_type": "markdown",
   "metadata": {},
   "source": [
    "Вывод: Т_наблюдаемое < Т_критическое => можем принять эту гипотезу"
   ]
  },
  {
   "cell_type": "markdown",
   "metadata": {},
   "source": [
    "### Проверка гипотезы, что средняя температура в Санкт-Петербурге +15"
   ]
  },
  {
   "cell_type": "code",
   "execution_count": 97,
   "metadata": {},
   "outputs": [
    {
     "name": "stdout",
     "output_type": "stream",
     "text": [
      "Средняя температура:  3.2673200000000002\n",
      "T_наблюдаемое:  12.792248170129236\n",
      "Т_критическое, по таблице Стьюдента: 2.262\n"
     ]
    }
   ],
   "source": [
    "X = df[(df['City'] == \"Saint Petersburg\") & (df[\"AverageTemperature\"].isna() == False)][\"AverageTemperature\"].head(100)\n",
    "M = X.mean()\n",
    "print(\"Средняя температура: \", M)\n",
    "s = X.std()\n",
    "T = abs(M-15)/(s/10)\n",
    "print(\"T_наблюдаемое: \", T)\n",
    "print(\"Т_критическое, по таблице Стьюдента:\", 2.262)"
   ]
  },
  {
   "cell_type": "markdown",
   "metadata": {},
   "source": [
    "Вывод: Т_наблюдаемое > Т_критическое => можем отклонить эту гипотезу"
   ]
  },
  {
   "cell_type": "markdown",
   "metadata": {},
   "source": [
    "### Проверка гипотезы о равенстве средних значений температуры в России, Китае и Канаде"
   ]
  },
  {
   "cell_type": "code",
   "execution_count": 57,
   "metadata": {},
   "outputs": [
    {
     "name": "stdout",
     "output_type": "stream",
     "text": [
      "F_H =  0.6578385868913479\n",
      "Значение из таблицы критических точек распределения Фишера-Снедекора для заданного уровня значимости (0.05):  4.1\n"
     ]
    }
   ],
   "source": [
    "Russia_temp = df[(df['Country'] == \"Russia\") & (df[\"AverageTemperature\"].isna() == False)][\"AverageTemperature\"].head()\n",
    "China_temp = df[(df['Country'] == \"China\") & (df[\"AverageTemperature\"].isna() == False)][\"AverageTemperature\"].head()\n",
    "Canada_temp = df[(df['Country'] == \"Canada\") & (df[\"AverageTemperature\"].isna() == False)][\"AverageTemperature\"].head()\n",
    "\n",
    "X_1 = Russia_temp.mean()\n",
    "s_1 = Russia_temp.std()\n",
    "n_1 = len(Russia_temp)\n",
    "\n",
    "X_2 = China_temp.mean()\n",
    "s_2 = China_temp.std()\n",
    "n_2 = len(China_temp)\n",
    "\n",
    "X_3 = Canada_temp.mean()\n",
    "s_3 = Canada_temp.std()\n",
    "n_3 = len(Canada_temp)\n",
    "\n",
    "#среднее по всем значениям:\n",
    "n = n_1+n_2+n_3\n",
    "Y = (1/n)*(X_1*n_1 + X_2*n_2 + X_3*n_3)\n",
    "\n",
    "#сумма квадратов отклонений средних групповых значений от общего среднего значения Y:\n",
    "S_F = ((X_1 - Y)**2)*n_1 + ((X_2 - Y)**2)*n_2 + ((X_2 - Y)**2)*n_2\n",
    "\n",
    "#остаточная сумма квадратов отклонений:\n",
    "S_l = (s_1**2)*n_1 + (s_2**2)*n_2 + (s_3**2)*n_3\n",
    "\n",
    "#факторную дисперсию:\n",
    "sigma_F = S_F/2\n",
    "\n",
    "#остаточную дисперсию:\n",
    "sigma_l = S_l/(n-3)\n",
    "\n",
    "#вычислим F_H:\n",
    "F_H = sigma_F/sigma_l\n",
    "\n",
    "print(\"F_H = \", F_H)\n",
    "print(\"Значение из таблицы критических точек распределения Фишера-Снедекора для заданного уровня значимости (0.05): \", 4.10)"
   ]
  },
  {
   "cell_type": "markdown",
   "metadata": {},
   "source": [
    "=> выборки имеют одинаковые средние значения, так как соотношение факторной дисперсии и остаточной дисперсии не превышает значения критической точки Фишера-Снедекора"
   ]
  },
  {
   "cell_type": "markdown",
   "metadata": {},
   "source": [
    "### Проверка гипотезы о равенстве средних значений температуры в России, Кот-д'Ивуаре и Великобритании"
   ]
  },
  {
   "cell_type": "code",
   "execution_count": 58,
   "metadata": {},
   "outputs": [
    {
     "name": "stdout",
     "output_type": "stream",
     "text": [
      "F_H =  21.289258813117396\n",
      "Значение из таблицы критических точек распределения Фишера-Снедекора для заданного уровня значимости (0.05):  4.1\n"
     ]
    }
   ],
   "source": [
    "Russia_temp = df[(df['Country'] == \"Russia\") & (df[\"AverageTemperature\"].isna() == False)][\"AverageTemperature\"].head()\n",
    "Cote_DIvoir_temp = df[(df['Country'] == \"CГґte D'Ivoire\") & (df[\"AverageTemperature\"].isna() == False)][\"AverageTemperature\"].head()\n",
    "United_Kingdom_temp = df[(df['Country'] == \"United Kingdom\") & (df[\"AverageTemperature\"].isna() == False)][\"AverageTemperature\"].head()\n",
    "\n",
    "X_1 = Russia_temp.mean()\n",
    "s_1 = Russia_temp.std()\n",
    "n_1 = len(Russia_temp)\n",
    "\n",
    "X_2 = Cote_DIvoir_temp.mean()\n",
    "s_2 = Cote_DIvoir_temp.std()\n",
    "n_2 = len(Cote_DIvoir_temp)\n",
    "\n",
    "X_3 = United_Kingdom_temp.mean()\n",
    "s_3 = United_Kingdom_temp.std()\n",
    "n_3 = len(United_Kingdom_temp)\n",
    "\n",
    "#среднее по всем значениям:\n",
    "n = n_1+n_2+n_3\n",
    "Y = (1/n)*(X_1*n_1 + X_2*n_2 + X_3*n_3)\n",
    "\n",
    "#сумма квадратов отклонений средних групповых значений от общего среднего значения Y:\n",
    "S_F = ((X_1 - Y)**2)*n_1 + ((X_2 - Y)**2)*n_2 + ((X_2 - Y)**2)*n_2\n",
    "\n",
    "#остаточная сумма квадратов отклонений:\n",
    "S_l = (s_1**2)*n_1 + (s_2**2)*n_2 + (s_3**2)*n_3\n",
    "\n",
    "#факторную дисперсию:\n",
    "sigma_F = S_F/2\n",
    "\n",
    "#остаточную дисперсию:\n",
    "sigma_l = S_l/(n-3)\n",
    "\n",
    "#вычислим F_H:\n",
    "F_H = sigma_F/sigma_l\n",
    "\n",
    "print(\"F_H = \", F_H)\n",
    "print(\"Значение из таблицы критических точек распределения Фишера-Снедекора для заданного уровня значимости (0.05): \", 4.10)"
   ]
  },
  {
   "cell_type": "markdown",
   "metadata": {},
   "source": [
    "=> выборки имеют разные средние значения, так как соотношение факторной дисперсии и остаточной дисперсии превышает значения критической точки Фишера-Снедекора"
   ]
  }
 ],
 "metadata": {
  "kernelspec": {
   "display_name": "Python 3",
   "language": "python",
   "name": "python3"
  },
  "language_info": {
   "codemirror_mode": {
    "name": "ipython",
    "version": 3
   },
   "file_extension": ".py",
   "mimetype": "text/x-python",
   "name": "python",
   "nbconvert_exporter": "python",
   "pygments_lexer": "ipython3",
   "version": "3.8.3"
  }
 },
 "nbformat": 4,
 "nbformat_minor": 4
}
